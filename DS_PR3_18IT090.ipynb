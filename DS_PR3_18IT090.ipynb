{
  "nbformat": 4,
  "nbformat_minor": 0,
  "metadata": {
    "colab": {
      "name": "DS_PR3_18IT090.ipynb",
      "provenance": []
    },
    "kernelspec": {
      "name": "python3",
      "display_name": "Python 3"
    },
    "language_info": {
      "name": "python"
    }
  },
  "cells": [
    {
      "cell_type": "markdown",
      "metadata": {
        "id": "z2uHer8X4-Gb"
      },
      "source": [
        "**Perform following Data Pre-processing tasks using python. Data reduction using variance threshold, univariate feature selection, recursive feature elimination, PCA.**"
      ]
    },
    {
      "cell_type": "code",
      "metadata": {
        "id": "Vm_tF65D103C"
      },
      "source": [
        "import numpy as np\n",
        "import matplotlib.pyplot as plt\n",
        "\n",
        "from sklearn.model_selection import train_test_split\n",
        "from sklearn.feature_selection import VarianceThreshold, RFE, SelectFromModel, SelectKBest, f_classif, chi2, mutual_info_classif\n",
        "from sklearn.linear_model import LogisticRegression\n",
        "from sklearn.ensemble import RandomForestClassifier\n",
        "from sklearn.metrics import confusion_matrix, classification_report\n",
        "\n",
        "from sklearn.datasets import load_iris\n"
      ],
      "execution_count": 28,
      "outputs": []
    },
    {
      "cell_type": "code",
      "metadata": {
        "id": "C-jWTVsy17o_"
      },
      "source": [
        "iris = load_iris()\n",
        "X = iris.data\n",
        "y = iris.target"
      ],
      "execution_count": 27,
      "outputs": []
    },
    {
      "cell_type": "code",
      "metadata": {
        "colab": {
          "base_uri": "https://localhost:8080/",
          "height": 0
        },
        "id": "Riv_BzA-1_6W",
        "outputId": "2e9381fe-0b01-4f9f-a2d5-74fed01bac0d"
      },
      "source": [
        "print(X[1, :])\n",
        "print(X.shape)"
      ],
      "execution_count": 29,
      "outputs": [
        {
          "output_type": "stream",
          "name": "stdout",
          "text": [
            "[4.9 3.  1.4 0.2]\n",
            "(150, 4)\n"
          ]
        }
      ]
    },
    {
      "cell_type": "code",
      "metadata": {
        "colab": {
          "base_uri": "https://localhost:8080/",
          "height": 0
        },
        "id": "y4khWYge2EoL",
        "outputId": "8145c32e-5729-4823-aac1-a00cae22f8a4"
      },
      "source": [
        "# In order to test the effectness of different feature selection methods, we add some noise features to the dataset.\n",
        "np.random.seed(100)\n",
        "E = np.random.uniform(0, 1, size=(len(X), 10))\n",
        "X = np.hstack((X, E))\n",
        "X.shape"
      ],
      "execution_count": 30,
      "outputs": [
        {
          "output_type": "execute_result",
          "data": {
            "text/plain": [
              "(150, 14)"
            ]
          },
          "metadata": {},
          "execution_count": 30
        }
      ]
    },
    {
      "cell_type": "code",
      "metadata": {
        "colab": {
          "base_uri": "https://localhost:8080/",
          "height": 0
        },
        "id": "wX6uoP6W2GEv",
        "outputId": "4d680619-f3c2-46ed-dea8-6b82c13bca66"
      },
      "source": [
        "X_train, X_test, y_train, y_test = train_test_split(X, y, random_state=1, test_size=0.3)\n",
        "X_train.shape"
      ],
      "execution_count": 31,
      "outputs": [
        {
          "output_type": "execute_result",
          "data": {
            "text/plain": [
              "(105, 14)"
            ]
          },
          "metadata": {},
          "execution_count": 31
        }
      ]
    },
    {
      "cell_type": "markdown",
      "metadata": {
        "id": "YRpN6BuK44lH"
      },
      "source": [
        "# **Variance Thresholding**\n",
        "VarianceThreshold is a simple baseline approach to feature selection. It removes all features whose variance doesn’t meet some threshold. By default, it removes all zero-variance features"
      ]
    },
    {
      "cell_type": "code",
      "metadata": {
        "colab": {
          "base_uri": "https://localhost:8080/",
          "height": 0
        },
        "id": "fWzJZn422Gh-",
        "outputId": "b9b8765f-870d-452d-e23d-c292e0a9ec3b"
      },
      "source": [
        "sel_variance_threshold = VarianceThreshold() \n",
        "X_train_remove_variance = sel_variance_threshold.fit_transform(X_train)\n",
        "X_train_remove_variance.shape\n",
        "# Variance threshold is applied but since the noise valued columns have non-zero variance, they aren't deleted"
      ],
      "execution_count": 32,
      "outputs": [
        {
          "output_type": "execute_result",
          "data": {
            "text/plain": [
              "(105, 14)"
            ]
          },
          "metadata": {},
          "execution_count": 32
        }
      ]
    },
    {
      "cell_type": "markdown",
      "metadata": {
        "id": "FO0YVJnH4Qg5"
      },
      "source": [
        "# **Univariate Feature Selection**\n",
        "\n",
        "Univariate feature selection works by selecting the best features based on univariate statistical tests.\n",
        "We compare each feature to the target variable, to see whether there is statistially significant relationship between them.\n",
        "When we analyze the relationship between one feature and the target variable we ignore the other features. That is why it is called 'univariate'.\n",
        "Each feature has its own test score.\n",
        "Finally, all the test scores are compared, and the features with top scores will be selected. These objects take as input a scoring function that returns univariate scores and p-values (or only scores for SelectKBest and SelectPercentile):\n",
        "\n",
        "For regression: f_regression, mutual_info_regression  >\n",
        "For classification: chi2, f_classif, mutual_info_classif"
      ]
    },
    {
      "cell_type": "code",
      "metadata": {
        "colab": {
          "base_uri": "https://localhost:8080/",
          "height": 0
        },
        "id": "CelJ4Q9-2PwL",
        "outputId": "77589819-9b23-47e5-cdf0-2433b9171d7d"
      },
      "source": [
        "# Since this is iris dataset we are working on, we will use classfication techniques\n",
        "# Analysis Of Variance (ANOVA)\n",
        "sel_f = SelectKBest(f_classif, k=4)\n",
        "X_train_f = sel_f.fit_transform(X_train, y_train)\n",
        "\n",
        "print(sel_f.get_support())\n",
        "print(sel_f.get_params())"
      ],
      "execution_count": 33,
      "outputs": [
        {
          "output_type": "stream",
          "name": "stdout",
          "text": [
            "[ True  True  True  True False False False False False False False False\n",
            " False False]\n",
            "{'k': 4, 'score_func': <function f_classif at 0x7fe618c788c0>}\n"
          ]
        }
      ]
    },
    {
      "cell_type": "code",
      "metadata": {
        "colab": {
          "base_uri": "https://localhost:8080/",
          "height": 0
        },
        "id": "PpkKoaMd2VTx",
        "outputId": "89e9091a-4e94-41cd-a4a3-b410bf8dd197"
      },
      "source": [
        "# Chi2 Test\n",
        "sel_chi2 = SelectKBest(chi2, k=4) # select 4 features\n",
        "X_train_chi2 = sel_chi2.fit_transform(X_train, y_train)\n",
        "\n",
        "print(sel_chi2.get_support())\n",
        "print(sel_chi2.get_params())"
      ],
      "execution_count": 34,
      "outputs": [
        {
          "output_type": "stream",
          "name": "stdout",
          "text": [
            "[ True  True  True  True False False False False False False False False\n",
            " False False]\n",
            "{'k': 4, 'score_func': <function chi2 at 0x7fe618c784d0>}\n"
          ]
        }
      ]
    },
    {
      "cell_type": "code",
      "metadata": {
        "colab": {
          "base_uri": "https://localhost:8080/",
          "height": 0
        },
        "id": "rcw5MtR22ZM2",
        "outputId": "daadb0fb-80ba-4f59-d041-b14acd337bf2"
      },
      "source": [
        "# mutual_info_classif Test\n",
        "sel_mutual = SelectKBest(mutual_info_classif, k=4)\n",
        "X_train_mutual = sel_mutual.fit_transform(X_train, y_train)\n",
        "\n",
        "print(sel_mutual.get_support())\n",
        "print(sel_mutual.get_params())"
      ],
      "execution_count": 35,
      "outputs": [
        {
          "output_type": "stream",
          "name": "stdout",
          "text": [
            "[ True  True  True  True False False False False False False False False\n",
            " False False]\n",
            "{'k': 4, 'score_func': <function mutual_info_classif at 0x7fe616705b00>}\n"
          ]
        }
      ]
    },
    {
      "cell_type": "markdown",
      "metadata": {
        "id": "7S_pRpf433aS"
      },
      "source": [
        "# **Recursive Feature Elimination**\n",
        "\n",
        "\n",
        "Given an external estimator that assigns weights to features (e.g., the coefficients of a linear model), recursive feature elimination (RFE) is to select features by recursively considering smaller and smaller sets of features.\n",
        "First, the estimator is trained on the initial set of features and the importance of each feature is obtained either through a coef_ attribute or through a featureimportances attribute. Then, the least important features are pruned from current set of features.That procedure is recursively repeated on the pruned set until the desired number of features to select is eventually reached."
      ]
    },
    {
      "cell_type": "code",
      "metadata": {
        "colab": {
          "base_uri": "https://localhost:8080/",
          "height": 0
        },
        "id": "0kXJLU7i2cFy",
        "outputId": "2d5ece16-bf1b-45c2-c930-c2b2801bae50"
      },
      "source": [
        "model_tree = RandomForestClassifier(random_state=100, n_estimators=50)\n",
        "sel_rfe_tree = RFE(estimator=model_tree, n_features_to_select=4, step=1)\n",
        "X_train_rfe_tree = sel_rfe_tree.fit_transform(X_train, y_train)\n",
        "print(sel_rfe_tree.get_support())"
      ],
      "execution_count": 36,
      "outputs": [
        {
          "output_type": "stream",
          "name": "stdout",
          "text": [
            "[ True False  True  True False False False False  True False False False\n",
            " False False]\n"
          ]
        }
      ]
    },
    {
      "cell_type": "markdown",
      "metadata": {
        "id": "AEaXRWIZ3v9n"
      },
      "source": [
        "# **PCA**\n",
        "Since PCA yields a feature subspace that maximizes the variance along the axes, it makes sense to standardize the data, especially, if it was measured on different scales. Although, all features in the Iris dataset were measured in centimeters, let us continue with the transformation of the data onto unit scale (mean=0 and variance=1), which is a requirement for the optimal performance of many machine learning algorithms"
      ]
    },
    {
      "cell_type": "code",
      "metadata": {
        "id": "ijgZIU0n2f1Z"
      },
      "source": [
        "from sklearn.decomposition import PCA\n",
        "from sklearn.preprocessing import StandardScaler\n",
        "import pandas as pd"
      ],
      "execution_count": 37,
      "outputs": []
    },
    {
      "cell_type": "code",
      "metadata": {
        "id": "9CD7myb52icJ"
      },
      "source": [
        "x = StandardScaler().fit_transform(X)\n",
        "features = ['sepal length', 'sepal width', 'petal length', 'petal width']"
      ],
      "execution_count": 38,
      "outputs": []
    },
    {
      "cell_type": "code",
      "metadata": {
        "colab": {
          "base_uri": "https://localhost:8080/",
          "height": 204
        },
        "id": "GDggI1Uc2nxr",
        "outputId": "eac4efda-3b27-40e0-f52d-317abdf19e49"
      },
      "source": [
        "#pd.DataFrame(data = x, columns = features).head()\n",
        "pd.DataFrame(data = x).head()"
      ],
      "execution_count": 39,
      "outputs": [
        {
          "output_type": "execute_result",
          "data": {
            "text/html": [
              "<div>\n",
              "<style scoped>\n",
              "    .dataframe tbody tr th:only-of-type {\n",
              "        vertical-align: middle;\n",
              "    }\n",
              "\n",
              "    .dataframe tbody tr th {\n",
              "        vertical-align: top;\n",
              "    }\n",
              "\n",
              "    .dataframe thead th {\n",
              "        text-align: right;\n",
              "    }\n",
              "</style>\n",
              "<table border=\"1\" class=\"dataframe\">\n",
              "  <thead>\n",
              "    <tr style=\"text-align: right;\">\n",
              "      <th></th>\n",
              "      <th>0</th>\n",
              "      <th>1</th>\n",
              "      <th>2</th>\n",
              "      <th>3</th>\n",
              "      <th>4</th>\n",
              "      <th>5</th>\n",
              "      <th>6</th>\n",
              "      <th>7</th>\n",
              "      <th>8</th>\n",
              "      <th>9</th>\n",
              "      <th>10</th>\n",
              "      <th>11</th>\n",
              "      <th>12</th>\n",
              "      <th>13</th>\n",
              "    </tr>\n",
              "  </thead>\n",
              "  <tbody>\n",
              "    <tr>\n",
              "      <th>0</th>\n",
              "      <td>-0.900681</td>\n",
              "      <td>1.019004</td>\n",
              "      <td>-1.340227</td>\n",
              "      <td>-1.315444</td>\n",
              "      <td>0.335801</td>\n",
              "      <td>-0.679643</td>\n",
              "      <td>-0.353365</td>\n",
              "      <td>1.066666</td>\n",
              "      <td>-1.627063</td>\n",
              "      <td>-1.275556</td>\n",
              "      <td>0.525037</td>\n",
              "      <td>1.257645</td>\n",
              "      <td>-1.118847</td>\n",
              "      <td>0.280096</td>\n",
              "    </tr>\n",
              "    <tr>\n",
              "      <th>1</th>\n",
              "      <td>-1.143017</td>\n",
              "      <td>-0.131979</td>\n",
              "      <td>-1.340227</td>\n",
              "      <td>-1.315444</td>\n",
              "      <td>1.502368</td>\n",
              "      <td>-0.914761</td>\n",
              "      <td>-1.243982</td>\n",
              "      <td>-1.427393</td>\n",
              "      <td>-0.907412</td>\n",
              "      <td>1.709786</td>\n",
              "      <td>1.012820</td>\n",
              "      <td>-1.098330</td>\n",
              "      <td>1.196413</td>\n",
              "      <td>-0.814205</td>\n",
              "    </tr>\n",
              "    <tr>\n",
              "      <th>2</th>\n",
              "      <td>-1.385353</td>\n",
              "      <td>0.328414</td>\n",
              "      <td>-1.397064</td>\n",
              "      <td>-1.315444</td>\n",
              "      <td>-0.038732</td>\n",
              "      <td>1.569513</td>\n",
              "      <td>1.110454</td>\n",
              "      <td>-0.656093</td>\n",
              "      <td>-1.055665</td>\n",
              "      <td>-0.400343</td>\n",
              "      <td>-1.776782</td>\n",
              "      <td>-0.808350</td>\n",
              "      <td>1.126353</td>\n",
              "      <td>-1.755092</td>\n",
              "    </tr>\n",
              "    <tr>\n",
              "      <th>3</th>\n",
              "      <td>-1.506521</td>\n",
              "      <td>0.098217</td>\n",
              "      <td>-1.283389</td>\n",
              "      <td>-1.315444</td>\n",
              "      <td>0.521686</td>\n",
              "      <td>0.426596</td>\n",
              "      <td>-1.542533</td>\n",
              "      <td>-0.500870</td>\n",
              "      <td>-1.520754</td>\n",
              "      <td>1.402520</td>\n",
              "      <td>1.598563</td>\n",
              "      <td>-1.501851</td>\n",
              "      <td>1.449641</td>\n",
              "      <td>0.286669</td>\n",
              "    </tr>\n",
              "    <tr>\n",
              "      <th>4</th>\n",
              "      <td>-1.021849</td>\n",
              "      <td>1.249201</td>\n",
              "      <td>-1.340227</td>\n",
              "      <td>-1.315444</td>\n",
              "      <td>1.003299</td>\n",
              "      <td>0.516266</td>\n",
              "      <td>0.232430</td>\n",
              "      <td>-1.725223</td>\n",
              "      <td>-0.939785</td>\n",
              "      <td>0.198265</td>\n",
              "      <td>0.865489</td>\n",
              "      <td>-0.814587</td>\n",
              "      <td>-0.610528</td>\n",
              "      <td>1.288174</td>\n",
              "    </tr>\n",
              "  </tbody>\n",
              "</table>\n",
              "</div>"
            ],
            "text/plain": [
              "         0         1         2   ...        11        12        13\n",
              "0 -0.900681  1.019004 -1.340227  ...  1.257645 -1.118847  0.280096\n",
              "1 -1.143017 -0.131979 -1.340227  ... -1.098330  1.196413 -0.814205\n",
              "2 -1.385353  0.328414 -1.397064  ... -0.808350  1.126353 -1.755092\n",
              "3 -1.506521  0.098217 -1.283389  ... -1.501851  1.449641  0.286669\n",
              "4 -1.021849  1.249201 -1.340227  ... -0.814587 -0.610528  1.288174\n",
              "\n",
              "[5 rows x 14 columns]"
            ]
          },
          "metadata": {},
          "execution_count": 39
        }
      ]
    },
    {
      "cell_type": "code",
      "metadata": {
        "id": "h-y1HXZC2riE"
      },
      "source": [
        "pca = PCA(n_components=2)"
      ],
      "execution_count": 40,
      "outputs": []
    },
    {
      "cell_type": "code",
      "metadata": {
        "id": "EiAxsZoz2vwX"
      },
      "source": [
        "principalComponents = pca.fit_transform(x)"
      ],
      "execution_count": 41,
      "outputs": []
    },
    {
      "cell_type": "code",
      "metadata": {
        "id": "YzVtGT9A2yt0"
      },
      "source": [
        "principalDf = pd.DataFrame(data = principalComponents\n",
        "             , columns = ['principal component 1', 'principal component 2'])"
      ],
      "execution_count": 42,
      "outputs": []
    },
    {
      "cell_type": "code",
      "metadata": {
        "colab": {
          "base_uri": "https://localhost:8080/",
          "height": 204
        },
        "id": "7ipE_iX621Pu",
        "outputId": "8e087493-7cae-44d0-eeb8-5a108a068128"
      },
      "source": [
        "principalDf.head(5)"
      ],
      "execution_count": 43,
      "outputs": [
        {
          "output_type": "execute_result",
          "data": {
            "text/html": [
              "<div>\n",
              "<style scoped>\n",
              "    .dataframe tbody tr th:only-of-type {\n",
              "        vertical-align: middle;\n",
              "    }\n",
              "\n",
              "    .dataframe tbody tr th {\n",
              "        vertical-align: top;\n",
              "    }\n",
              "\n",
              "    .dataframe thead th {\n",
              "        text-align: right;\n",
              "    }\n",
              "</style>\n",
              "<table border=\"1\" class=\"dataframe\">\n",
              "  <thead>\n",
              "    <tr style=\"text-align: right;\">\n",
              "      <th></th>\n",
              "      <th>principal component 1</th>\n",
              "      <th>principal component 2</th>\n",
              "    </tr>\n",
              "  </thead>\n",
              "  <tbody>\n",
              "    <tr>\n",
              "      <th>0</th>\n",
              "      <td>-2.144349</td>\n",
              "      <td>1.254377</td>\n",
              "    </tr>\n",
              "    <tr>\n",
              "      <th>1</th>\n",
              "      <td>-2.226538</td>\n",
              "      <td>-1.647474</td>\n",
              "    </tr>\n",
              "    <tr>\n",
              "      <th>2</th>\n",
              "      <td>-2.238513</td>\n",
              "      <td>-0.668595</td>\n",
              "    </tr>\n",
              "    <tr>\n",
              "      <th>3</th>\n",
              "      <td>-2.501835</td>\n",
              "      <td>-2.506009</td>\n",
              "    </tr>\n",
              "    <tr>\n",
              "      <th>4</th>\n",
              "      <td>-2.550708</td>\n",
              "      <td>0.237216</td>\n",
              "    </tr>\n",
              "  </tbody>\n",
              "</table>\n",
              "</div>"
            ],
            "text/plain": [
              "   principal component 1  principal component 2\n",
              "0              -2.144349               1.254377\n",
              "1              -2.226538              -1.647474\n",
              "2              -2.238513              -0.668595\n",
              "3              -2.501835              -2.506009\n",
              "4              -2.550708               0.237216"
            ]
          },
          "metadata": {},
          "execution_count": 43
        }
      ]
    },
    {
      "cell_type": "code",
      "metadata": {
        "id": "czA7992s24OR"
      },
      "source": [
        "# Getting Target variable from the dataset\n",
        "url = \"https://archive.ics.uci.edu/ml/machine-learning-databases/iris/iris.data\"\n",
        "df = pd.read_csv(url\n",
        "                 , names=['sepal length','sepal width','petal length','petal width','target'])\n",
        "y = df.loc[:,['target']].values"
      ],
      "execution_count": 44,
      "outputs": []
    },
    {
      "cell_type": "code",
      "metadata": {
        "colab": {
          "base_uri": "https://localhost:8080/",
          "height": 204
        },
        "id": "GHp4yj5s27q2",
        "outputId": "0dde2684-0280-4683-c54d-5813e1d8b4c4"
      },
      "source": [
        "finalDf = pd.concat([principalDf, df[['target']]], axis = 1)\n",
        "finalDf.head(5)"
      ],
      "execution_count": 45,
      "outputs": [
        {
          "output_type": "execute_result",
          "data": {
            "text/html": [
              "<div>\n",
              "<style scoped>\n",
              "    .dataframe tbody tr th:only-of-type {\n",
              "        vertical-align: middle;\n",
              "    }\n",
              "\n",
              "    .dataframe tbody tr th {\n",
              "        vertical-align: top;\n",
              "    }\n",
              "\n",
              "    .dataframe thead th {\n",
              "        text-align: right;\n",
              "    }\n",
              "</style>\n",
              "<table border=\"1\" class=\"dataframe\">\n",
              "  <thead>\n",
              "    <tr style=\"text-align: right;\">\n",
              "      <th></th>\n",
              "      <th>principal component 1</th>\n",
              "      <th>principal component 2</th>\n",
              "      <th>target</th>\n",
              "    </tr>\n",
              "  </thead>\n",
              "  <tbody>\n",
              "    <tr>\n",
              "      <th>0</th>\n",
              "      <td>-2.144349</td>\n",
              "      <td>1.254377</td>\n",
              "      <td>Iris-setosa</td>\n",
              "    </tr>\n",
              "    <tr>\n",
              "      <th>1</th>\n",
              "      <td>-2.226538</td>\n",
              "      <td>-1.647474</td>\n",
              "      <td>Iris-setosa</td>\n",
              "    </tr>\n",
              "    <tr>\n",
              "      <th>2</th>\n",
              "      <td>-2.238513</td>\n",
              "      <td>-0.668595</td>\n",
              "      <td>Iris-setosa</td>\n",
              "    </tr>\n",
              "    <tr>\n",
              "      <th>3</th>\n",
              "      <td>-2.501835</td>\n",
              "      <td>-2.506009</td>\n",
              "      <td>Iris-setosa</td>\n",
              "    </tr>\n",
              "    <tr>\n",
              "      <th>4</th>\n",
              "      <td>-2.550708</td>\n",
              "      <td>0.237216</td>\n",
              "      <td>Iris-setosa</td>\n",
              "    </tr>\n",
              "  </tbody>\n",
              "</table>\n",
              "</div>"
            ],
            "text/plain": [
              "   principal component 1  principal component 2       target\n",
              "0              -2.144349               1.254377  Iris-setosa\n",
              "1              -2.226538              -1.647474  Iris-setosa\n",
              "2              -2.238513              -0.668595  Iris-setosa\n",
              "3              -2.501835              -2.506009  Iris-setosa\n",
              "4              -2.550708               0.237216  Iris-setosa"
            ]
          },
          "metadata": {},
          "execution_count": 45
        }
      ]
    },
    {
      "cell_type": "code",
      "metadata": {
        "colab": {
          "base_uri": "https://localhost:8080/",
          "height": 523
        },
        "id": "s6cVs80x2_Ar",
        "outputId": "ffd564a0-6112-46d6-e2c6-e7a8e0280264"
      },
      "source": [
        "fig = plt.figure(figsize = (8,8))\n",
        "ax = fig.add_subplot(1,1,1) \n",
        "ax.set_xlabel('Principal Component 1', fontsize = 15)\n",
        "ax.set_ylabel('Principal Component 2', fontsize = 15)\n",
        "ax.set_title('2 Component PCA', fontsize = 20)\n",
        "\n",
        "\n",
        "targets = ['Iris-setosa', 'Iris-versicolor', 'Iris-virginica']\n",
        "colors = ['r', 'g', 'b']\n",
        "for target, color in zip(targets,colors):\n",
        "    indicesToKeep = finalDf['target'] == target\n",
        "    ax.scatter(finalDf.loc[indicesToKeep, 'principal component 1']\n",
        "               , finalDf.loc[indicesToKeep, 'principal component 2']\n",
        "               , c = color\n",
        "               , s = 50)\n",
        "ax.legend(targets)\n",
        "ax.grid()"
      ],
      "execution_count": 46,
      "outputs": [
        {
          "output_type": "display_data",
          "data": {
            "image/png": "[encoded data removed]",
            "text/plain": [
              "<Figure size 576x576 with 1 Axes>"
            ]
          },
          "metadata": {
            "needs_background": "light"
          }
        }
      ]
    },
    {
      "cell_type": "code",
      "metadata": {
        "colab": {
          "base_uri": "https://localhost:8080/",
          "height": 204
        },
        "id": "yTxQEH4A3C1j",
        "outputId": "762345b8-25b7-4083-925f-8172355e1588"
      },
      "source": [
        "pca = PCA(n_components=3)\n",
        "principalComponents = pca.fit_transform(x)\n",
        "principalDf1 = pd.DataFrame(data = principalComponents\n",
        "             , columns = ['principal component 1', 'principal component 2','principal component 3'])\n",
        "finalDf1 = pd.concat([principalDf1, df[['target']]], axis = 1)\n",
        "finalDf1.head(5)"
      ],
      "execution_count": 47,
      "outputs": [
        {
          "output_type": "execute_result",
          "data": {
            "text/html": [
              "<div>\n",
              "<style scoped>\n",
              "    .dataframe tbody tr th:only-of-type {\n",
              "        vertical-align: middle;\n",
              "    }\n",
              "\n",
              "    .dataframe tbody tr th {\n",
              "        vertical-align: top;\n",
              "    }\n",
              "\n",
              "    .dataframe thead th {\n",
              "        text-align: right;\n",
              "    }\n",
              "</style>\n",
              "<table border=\"1\" class=\"dataframe\">\n",
              "  <thead>\n",
              "    <tr style=\"text-align: right;\">\n",
              "      <th></th>\n",
              "      <th>principal component 1</th>\n",
              "      <th>principal component 2</th>\n",
              "      <th>principal component 3</th>\n",
              "      <th>target</th>\n",
              "    </tr>\n",
              "  </thead>\n",
              "  <tbody>\n",
              "    <tr>\n",
              "      <th>0</th>\n",
              "      <td>-2.144349</td>\n",
              "      <td>1.254377</td>\n",
              "      <td>0.260207</td>\n",
              "      <td>Iris-setosa</td>\n",
              "    </tr>\n",
              "    <tr>\n",
              "      <th>1</th>\n",
              "      <td>-2.226538</td>\n",
              "      <td>-1.647474</td>\n",
              "      <td>-2.488839</td>\n",
              "      <td>Iris-setosa</td>\n",
              "    </tr>\n",
              "    <tr>\n",
              "      <th>2</th>\n",
              "      <td>-2.238513</td>\n",
              "      <td>-0.668595</td>\n",
              "      <td>2.283491</td>\n",
              "      <td>Iris-setosa</td>\n",
              "    </tr>\n",
              "    <tr>\n",
              "      <th>3</th>\n",
              "      <td>-2.501835</td>\n",
              "      <td>-2.506009</td>\n",
              "      <td>-1.957746</td>\n",
              "      <td>Iris-setosa</td>\n",
              "    </tr>\n",
              "    <tr>\n",
              "      <th>4</th>\n",
              "      <td>-2.550708</td>\n",
              "      <td>0.237216</td>\n",
              "      <td>-0.988219</td>\n",
              "      <td>Iris-setosa</td>\n",
              "    </tr>\n",
              "  </tbody>\n",
              "</table>\n",
              "</div>"
            ],
            "text/plain": [
              "   principal component 1  ...       target\n",
              "0              -2.144349  ...  Iris-setosa\n",
              "1              -2.226538  ...  Iris-setosa\n",
              "2              -2.238513  ...  Iris-setosa\n",
              "3              -2.501835  ...  Iris-setosa\n",
              "4              -2.550708  ...  Iris-setosa\n",
              "\n",
              "[5 rows x 4 columns]"
            ]
          },
          "metadata": {},
          "execution_count": 47
        }
      ]
    },
    {
      "cell_type": "code",
      "metadata": {
        "colab": {
          "base_uri": "https://localhost:8080/",
          "height": 542
        },
        "id": "8GthRx9r3GE8",
        "outputId": "20844eb4-fb8b-4a8a-bce9-8cfc2e179b59"
      },
      "source": [
        "import plotly.express as px\n",
        "targets = ['Iris-setosa', 'Iris-versicolor', 'Iris-virginica']\n",
        "colors = ['r', 'g', 'b']\n",
        "fig = px.scatter_3d(finalDf1,x=\"principal component 1\",y=\"principal component 2\",z=\"principal component 3\",color=\"target\")\n",
        "fig.show()"
      ],
      "execution_count": 48,
      "outputs": [
        {
          "output_type": "display_data",
          "data": {
            "text/html": [
              "<html>\n",
              "<head><meta charset=\"utf-8\" /></head>\n",
              "<body>\n",
              "    <div>\n",
              "            <script src=\"https://cdnjs.cloudflare.com/ajax/libs/mathjax/2.7.5/MathJax.js?config=TeX-AMS-MML_SVG\"></script><script type=\"text/javascript\">if (window.MathJax) {MathJax.Hub.Config({SVG: {font: \"STIX-Web\"}});}</script>\n",
              "                <script type=\"text/javascript\">window.PlotlyConfig = {MathJaxConfig: 'local'};</script>\n",
              "        <script src=\"https://cdn.plot.ly/plotly-latest.min.js\"></script>    \n",
              "            <div id=\"c0877871-2707-493e-b022-dc228466ec90\" class=\"plotly-graph-div\" style=\"height:525px; width:100%;\"></div>\n",
              "            <script type=\"text/javascript\">\n",
              "                \n",
              "                    window.PLOTLYENV=window.PLOTLYENV || {};\n",
              "                    \n",
              "                if (document.getElementById(\"c0877871-2707-493e-b022-dc228466ec90\")) {\n",
              "                    Plotly.newPlot(\n",
              "                        'c0877871-2707-493e-b022-dc228466ec90',\n",
              "                        [{\"hoverlabel\": {\"namelength\": 0}, \"hovertemplate\": \"target=Iris-setosa<br>principal component 1=%{x}<br>principal component 2=%{y}<br>principal component 3=%{z}\", \"legendgroup\": \"target=Iris-setosa\", \"marker\": {\"color\": \"#636efa\", \"symbol\": \"circle\"}, \"mode\": \"markers\", \"name\": \"target=Iris-setosa\", \"scene\": \"scene\", \"showlegend\": true, \"type\": \"scatter3d\", \"x\": [-2.14434899879145, -2.226537653642364, -2.2385128625633905, -2.5018348341934775, -2.5507076086765834, -2.0599295121354846, -2.6310319484290114, -2.258302217338941, -2.237141949634642, -2.1668849021911094, -2.3208682677111625, -2.125871809797869, -2.277051386963349, -2.518511228744239, -2.3749051514481083, -2.1788451072700536, -2.1527614967351045, -2.2654041234170146, -2.0390043878367097, -2.4063801997049064, -1.8188524267098263, -2.3925392565632757, -2.9305114548366835, -1.7037808384567916, -2.1750531976108056, -1.9382815696172875, -2.068902426822366, -2.081258985311997, -2.2258356505333783, -2.1876654238153472, -1.9687379876518964, -1.8593268224372037, -2.4002097180239033, -2.5267892800722844, -2.2428773024755104, -2.212364721985304, -2.028340956545913, -2.439254361044693, -2.4258711018885535, -2.1047047749643792, -2.2850812147234447, -2.0201434873375352, -2.4854909082803665, -1.7691507476233659, -2.214347229517194, -2.4131124824104986, -2.238555288972935, -2.4601133188475814, -2.354689602781325, -2.2601555147915895], \"y\": [1.2543771522963727, -1.6474741570262301, -0.6685945867780329, -2.5060089105240984, 0.23721563426007555, 0.5420072636293986, -0.2832068408398607, 0.52706224269365, 0.8684085969028162, 0.6589481094942878, -1.7730190510111281, 0.49599021641612934, 0.10099558052805513, 0.36213015893509476, 1.1955556810773502, 0.4846588722427344, -0.9893155356050913, 0.9853408901921423, -1.8850194396964883, 0.05373121699383145, 1.760712649092808, -1.0554311130284737, -1.116717086574046, 2.626783039016701, 0.011850724096442217, -0.12926875220474646, 0.3815062922733951, 1.2404368451153331, -1.2878518027461985, 0.08115648949044443, -0.5302637859160938, 0.22241383634209547, 1.0843476071404892, -1.6601530136130942, -0.013799123276757235, -0.02965982648732676, -1.8728808922354385, 0.7499396997641996, 0.7210078630610871, 0.8199384291282473, -0.899452871326683, -1.798458405663215, 0.5468618454607383, -1.2066566182669392, 0.8717879114014974, -0.6390202839472103, 1.7356088044188887, 0.04541121495510225, 1.182108150581556, 0.31462467611917755], \"z\": [0.26020711754751014, -2.488838794811031, 2.283491360483141, -1.95774606470802, -0.9882190544379416, 0.5321239980454776, -0.3466372776217595, -0.9476799194845963, -0.37055232614727385, -0.8631596372921855, 0.20646360204803146, 1.5065527265380598, -0.14720788853483321, 0.8563686270648994, -0.4323609955493344, 1.1376981571650944, 0.8432154236401668, -1.0965202317352611, 0.1770665695790245, 2.083866136474245, 1.131188686494952, -0.9081803794005852, -1.0897668421927953, 1.021602533758296, 0.7864736014573819, 0.22989653746696387, 0.3841791180759378, 0.18271307110167345, -0.6973860801513376, 0.6587980778411631, 1.4943419987830189, 0.7950220931710014, 2.2197918540742116, 1.418892004138522, -0.2929223649758191, -2.195700704405831, 2.0264102026800725, 0.20292238777977165, -1.1268364411030107, 0.1226341911879155, 1.9280580385043535, -1.6300370058967688, -0.6166318344918267, 0.6436384426050777, -0.05261375099507599, -0.8327842875885131, 0.8947182048292005, -1.3042147211177508, -1.8695313413913124, 0.08653224408199868]}, {\"hoverlabel\": {\"namelength\": 0}, \"hovertemplate\": \"target=Iris-versicolor<br>principal component 1=%{x}<br>principal component 2=%{y}<br>principal component 3=%{z}\", \"legendgroup\": \"target=Iris-versicolor\", \"marker\": {\"color\": \"#EF553B\", \"symbol\": \"circle\"}, \"mode\": \"markers\", \"name\": \"target=Iris-versicolor\", \"scene\": \"scene\", \"showlegend\": true, \"type\": \"scatter3d\", \"x\": [1.252585564065632, 0.5964014337766106, 1.4679955243487401, 0.4421169507853254, 0.9088355792125037, 0.2415756850279809, 0.8885135232055369, -0.4347378110524841, 0.9321155779388832, 0.19409526842829272, -0.18188318679541995, 0.3924296408308107, 0.6499930382874305, 0.5237102895231122, -0.10093558408116257, 0.8875152902633121, 0.28118113890002666, 0.06904966416533899, 1.263896768629504, 0.2739353954777151, 0.5789255377857967, 0.4913635178841666, 1.1845842181040602, 0.5242757530819578, 0.6205754710323527, 1.0587384466645227, 1.1701061311078813, 1.2039507273199648, 0.8949534581451773, 0.01327623092111128, -0.0864165860812773, 0.058551505621701305, 0.3073561449984043, 0.9762133047546291, 0.281940337728956, 0.4613902421011106, 0.8979899710571498, 0.772425991284667, 0.19789000089124537, 0.21523857861703416, 0.2752000378708995, 0.7361502306588374, 0.38828936954490945, -0.48360246977823135, 0.38429241265931424, 0.24513403711966775, 0.09291572185946954, 0.6436553669607281, -0.3197192992018174, 0.22528052316595532], \"y\": [-0.002492029639691797, -0.6006621137121386, 1.4851203494824667, 0.32081572300543065, -0.02491516420924012, 1.0963357293912277, 0.415666849816099, 1.0723979999144198, 0.701156210193868, -0.9286697229235868, 0.488431361479051, -2.0079202493741963, 0.26675543082989395, -1.9053662015640518, -0.840068027047522, 0.6481988796899937, -1.9812096353126585, -0.8677100300576641, 0.48931291517902537, 0.3569776799642193, -2.645085850147364, 0.7803755136575232, -0.46420933056854147, -1.826737549293916, 1.3825347687742744, 2.1048137095488277, -1.5284904865481392, 0.40967284828733797, -0.10943195835216704, -0.18803658427206338, 1.0582878735114798, -1.312434365586327, 2.102550662089544, -0.108062739022797, 0.4352295325977282, -0.20050113741545855, -0.46733188936897696, -0.5785688332576449, 1.7123335356999998, -2.0765415262806597, -0.09801929217070904, 1.4309689425964578, -0.04813794556538343, -1.3901140853809364, 2.4064161838869196, -0.17784440369952073, -0.9750149813332056, 1.787174175425638, 1.354066486900836, -0.19752735085735926], \"z\": [0.6758695014272793, -0.15150574217870272, 1.1948679176682613, -1.3264083909693096, -2.2752663978703818, 0.49946162355785817, -0.01325753579827781, 0.80334998553171, -0.9574401486924684, 0.07386975807370118, -0.3324491793989157, 0.8944211812584862, 0.8068518758556295, -1.8380318691820836, -0.9286132970057323, -0.7306355820977499, -0.08461161991584068, -0.33992530600402326, -0.7289208945974048, -1.3265499273235601, 0.42643184766755854, -0.5351621279833202, -1.1356621627774208, -0.09009412821864254, -0.34478340577156114, 0.24199329852016252, 0.0037494373073683122, -1.256598893691691, 0.8857974702597032, -0.8062742952955176, -2.5592578584145524, -1.0429155817404518, -1.679331318536189, 0.6155618926396076, 0.8048562946147108, -1.0335625951452052, -0.14572538259299095, -1.989572398894346, -0.4089066150099984, 1.0036211656081604, -0.4023173676590292, 0.9538008813679794, -1.0445960376261003, -0.645196621645347, 1.3557723452539294, 0.12076766746068694, -0.8161660954830454, -0.09061045747540382, 0.6736061926175764, 1.5768986909960543]}, {\"hoverlabel\": {\"namelength\": 0}, \"hovertemplate\": \"target=Iris-virginica<br>principal component 1=%{x}<br>principal component 2=%{y}<br>principal component 3=%{z}\", \"legendgroup\": \"target=Iris-virginica\", \"marker\": {\"color\": \"#00cc96\", \"symbol\": \"circle\"}, \"mode\": \"markers\", \"name\": \"target=Iris-virginica\", \"scene\": \"scene\", \"showlegend\": true, \"type\": \"scatter3d\", \"x\": [1.818234978091384, 1.3720038844892584, 2.1141416037956904, 1.6848363165429556, 1.794245459544003, 2.619862732765583, 0.4779554059449312, 2.1518108018765942, 1.8225153986163238, 2.4151325126015415, 1.188431823202082, 1.6246044547736243, 1.7309688917144217, 1.2592177025699471, 1.4082228141111806, 1.5805401780057158, 1.4582164302341407, 2.319189632721386, 3.451455336681335, 1.0952090079092296, 2.101510039808297, 1.116917265102156, 2.8157246296885896, 1.3632169295747756, 1.7905142163006151, 1.9305491085181559, 1.1739529747526638, 1.1824204658209665, 2.017916277065216, 1.9575390631619154, 2.334752220209175, 2.3091958154289896, 1.7616327825496736, 1.3212729598133803, 1.298579094660052, 2.695855448920904, 1.651881090739371, 1.4449619699990583, 1.1202118432662926, 1.9291806531399944, 2.207598985919387, 1.8418550574886847, 1.262510510721384, 2.012412008548596, 1.824931312620505, 2.0426769012654304, 1.471984122567834, 1.7525231477126542, 1.2116518608120883, 1.0147949126921065], \"y\": [-1.5487308954228944, 3.2054590319995455, 1.7590171818660303, 1.8965655939641395, 0.4865296215676329, -2.4487712848977443, 1.1348360484468454, -1.590046628856101, 0.4425864477623223, 0.12349253037365555, -0.8873337175880214, -1.0817046077569314, -1.2245612565766901, -1.2522371516088309, -0.5420028909903393, 0.03842477192936712, 0.49335863205928576, -0.09868061798588615, 1.0587386746810055, 0.8313547992686475, -0.34716531483964885, 1.2325808309048563, 0.2275533092496478, -0.323721247733511, 1.04415836736711, -2.626490008824798, -1.7548477108897769, 1.3745794331490504, 2.00317882549374, 0.4020797760882742, -1.442087054462727, -1.5250248408252212, -0.12011800594463719, 1.0663022750056095, -1.0499773705339583, -0.21572551025496312, -0.5723394046916012, 1.213816714250264, -0.3691953543456884, -2.206536688455128, 0.5598037340875033, 0.7556565761573762, 1.4025109452822757, 0.4974731530276662, -0.1167449491147974, 0.5220140955376849, 0.6608880721221161, 0.3374366327154014, -0.7273500673272975, -1.6241589697432055], \"z\": [0.7927957958987573, -0.06944364535719784, -1.931132233560124, 1.2630059554762882, 0.33426738326766087, -1.051062815829852, -0.13365126743340627, 0.9379491332969409, -0.3411152298438304, 0.45428046792965143, -2.70858036477575, 1.1238146421061987, -0.026133884639704758, 2.385933328288349, 0.2385059353005502, 0.1444480833904123, -0.8093487360284046, -2.1578369294423183, -0.7898638306200244, -1.6771612897579964, 1.8922282758752722, 0.6818683062726082, -1.0080484306971376, 1.7886854612724477, -0.7587087557857192, -0.3073679205766114, 0.9793549262767739, 0.6461026921679071, 0.5149763992321678, 1.3393367116079093, 0.6277244600138308, 0.6842478152639602, -0.8019185855904017, 2.0148072269548893, -1.1664093630837777, -2.5436317870287812, 0.49370062529406245, 1.0240284062364984, 2.1483449556003813, 2.745079061145039, 1.2348261129474398, -0.4992276353694829, -0.8757411453326043, -0.3758839376793221, -0.03376436019339244, 1.7745851553947296, -0.9375579404498308, 1.091203069969995, 0.11533915546328016, 1.1216116918562125]}],\n",
              "                        {\"legend\": {\"tracegroupgap\": 0}, \"margin\": {\"t\": 60}, \"scene\": {\"domain\": {\"x\": [0.0, 1.0], \"y\": [0.0, 1.0]}, \"xaxis\": {\"title\": {\"text\": \"principal component 1\"}}, \"yaxis\": {\"title\": {\"text\": \"principal component 2\"}}, \"zaxis\": {\"title\": {\"text\": \"principal component 3\"}}}, \"template\": {\"data\": {\"bar\": [{\"error_x\": {\"color\": \"#2a3f5f\"}, \"error_y\": {\"color\": \"#2a3f5f\"}, \"marker\": {\"line\": {\"color\": \"#E5ECF6\", \"width\": 0.5}}, \"type\": \"bar\"}], \"barpolar\": [{\"marker\": {\"line\": {\"color\": \"#E5ECF6\", \"width\": 0.5}}, \"type\": \"barpolar\"}], \"carpet\": [{\"aaxis\": {\"endlinecolor\": \"#2a3f5f\", \"gridcolor\": \"white\", \"linecolor\": \"white\", \"minorgridcolor\": \"white\", \"startlinecolor\": \"#2a3f5f\"}, \"baxis\": {\"endlinecolor\": \"#2a3f5f\", \"gridcolor\": \"white\", \"linecolor\": \"white\", \"minorgridcolor\": \"white\", \"startlinecolor\": \"#2a3f5f\"}, \"type\": \"carpet\"}], \"choropleth\": [{\"colorbar\": {\"outlinewidth\": 0, \"ticks\": \"\"}, \"type\": \"choropleth\"}], \"contour\": [{\"colorbar\": {\"outlinewidth\": 0, \"ticks\": \"\"}, \"colorscale\": [[0.0, \"#0d0887\"], [0.1111111111111111, \"#46039f\"], [0.2222222222222222, \"#7201a8\"], [0.3333333333333333, \"#9c179e\"], [0.4444444444444444, \"#bd3786\"], [0.5555555555555556, \"#d8576b\"], [0.6666666666666666, \"#ed7953\"], [0.7777777777777778, \"#fb9f3a\"], [0.8888888888888888, \"#fdca26\"], [1.0, \"#f0f921\"]], \"type\": \"contour\"}], \"contourcarpet\": [{\"colorbar\": {\"outlinewidth\": 0, \"ticks\": \"\"}, \"type\": \"contourcarpet\"}], \"heatmap\": [{\"colorbar\": {\"outlinewidth\": 0, \"ticks\": \"\"}, \"colorscale\": [[0.0, \"#0d0887\"], [0.1111111111111111, \"#46039f\"], [0.2222222222222222, \"#7201a8\"], [0.3333333333333333, \"#9c179e\"], [0.4444444444444444, \"#bd3786\"], [0.5555555555555556, \"#d8576b\"], [0.6666666666666666, \"#ed7953\"], [0.7777777777777778, \"#fb9f3a\"], [0.8888888888888888, \"#fdca26\"], [1.0, \"#f0f921\"]], \"type\": \"heatmap\"}], \"heatmapgl\": [{\"colorbar\": {\"outlinewidth\": 0, \"ticks\": \"\"}, \"colorscale\": [[0.0, \"#0d0887\"], [0.1111111111111111, \"#46039f\"], [0.2222222222222222, \"#7201a8\"], [0.3333333333333333, \"#9c179e\"], [0.4444444444444444, \"#bd3786\"], [0.5555555555555556, \"#d8576b\"], [0.6666666666666666, \"#ed7953\"], [0.7777777777777778, \"#fb9f3a\"], [0.8888888888888888, \"#fdca26\"], [1.0, \"#f0f921\"]], \"type\": \"heatmapgl\"}], \"histogram\": [{\"marker\": {\"colorbar\": {\"outlinewidth\": 0, \"ticks\": \"\"}}, \"type\": \"histogram\"}], \"histogram2d\": [{\"colorbar\": {\"outlinewidth\": 0, \"ticks\": \"\"}, \"colorscale\": [[0.0, \"#0d0887\"], [0.1111111111111111, \"#46039f\"], [0.2222222222222222, \"#7201a8\"], [0.3333333333333333, \"#9c179e\"], [0.4444444444444444, \"#bd3786\"], [0.5555555555555556, \"#d8576b\"], [0.6666666666666666, \"#ed7953\"], [0.7777777777777778, \"#fb9f3a\"], [0.8888888888888888, \"#fdca26\"], [1.0, \"#f0f921\"]], \"type\": \"histogram2d\"}], \"histogram2dcontour\": [{\"colorbar\": {\"outlinewidth\": 0, \"ticks\": \"\"}, \"colorscale\": [[0.0, \"#0d0887\"], [0.1111111111111111, \"#46039f\"], [0.2222222222222222, \"#7201a8\"], [0.3333333333333333, \"#9c179e\"], [0.4444444444444444, \"#bd3786\"], [0.5555555555555556, \"#d8576b\"], [0.6666666666666666, \"#ed7953\"], [0.7777777777777778, \"#fb9f3a\"], [0.8888888888888888, \"#fdca26\"], [1.0, \"#f0f921\"]], \"type\": \"histogram2dcontour\"}], \"mesh3d\": [{\"colorbar\": {\"outlinewidth\": 0, \"ticks\": \"\"}, \"type\": \"mesh3d\"}], \"parcoords\": [{\"line\": {\"colorbar\": {\"outlinewidth\": 0, \"ticks\": \"\"}}, \"type\": \"parcoords\"}], \"pie\": [{\"automargin\": true, \"type\": \"pie\"}], \"scatter\": [{\"marker\": {\"colorbar\": {\"outlinewidth\": 0, \"ticks\": \"\"}}, \"type\": \"scatter\"}], \"scatter3d\": [{\"line\": {\"colorbar\": {\"outlinewidth\": 0, \"ticks\": \"\"}}, \"marker\": {\"colorbar\": {\"outlinewidth\": 0, \"ticks\": \"\"}}, \"type\": \"scatter3d\"}], \"scattercarpet\": [{\"marker\": {\"colorbar\": {\"outlinewidth\": 0, \"ticks\": \"\"}}, \"type\": \"scattercarpet\"}], \"scattergeo\": [{\"marker\": {\"colorbar\": {\"outlinewidth\": 0, \"ticks\": \"\"}}, \"type\": \"scattergeo\"}], \"scattergl\": [{\"marker\": {\"colorbar\": {\"outlinewidth\": 0, \"ticks\": \"\"}}, \"type\": \"scattergl\"}], \"scattermapbox\": [{\"marker\": {\"colorbar\": {\"outlinewidth\": 0, \"ticks\": \"\"}}, \"type\": \"scattermapbox\"}], \"scatterpolar\": [{\"marker\": {\"colorbar\": {\"outlinewidth\": 0, \"ticks\": \"\"}}, \"type\": \"scatterpolar\"}], \"scatterpolargl\": [{\"marker\": {\"colorbar\": {\"outlinewidth\": 0, \"ticks\": \"\"}}, \"type\": \"scatterpolargl\"}], \"scatterternary\": [{\"marker\": {\"colorbar\": {\"outlinewidth\": 0, \"ticks\": \"\"}}, \"type\": \"scatterternary\"}], \"surface\": [{\"colorbar\": {\"outlinewidth\": 0, \"ticks\": \"\"}, \"colorscale\": [[0.0, \"#0d0887\"], [0.1111111111111111, \"#46039f\"], [0.2222222222222222, \"#7201a8\"], [0.3333333333333333, \"#9c179e\"], [0.4444444444444444, \"#bd3786\"], [0.5555555555555556, \"#d8576b\"], [0.6666666666666666, \"#ed7953\"], [0.7777777777777778, \"#fb9f3a\"], [0.8888888888888888, \"#fdca26\"], [1.0, \"#f0f921\"]], \"type\": \"surface\"}], \"table\": [{\"cells\": {\"fill\": {\"color\": \"#EBF0F8\"}, \"line\": {\"color\": \"white\"}}, \"header\": {\"fill\": {\"color\": \"#C8D4E3\"}, \"line\": {\"color\": \"white\"}}, \"type\": \"table\"}]}, \"layout\": {\"annotationdefaults\": {\"arrowcolor\": \"#2a3f5f\", \"arrowhead\": 0, \"arrowwidth\": 1}, \"coloraxis\": {\"colorbar\": {\"outlinewidth\": 0, \"ticks\": \"\"}}, \"colorscale\": {\"diverging\": [[0, \"#8e0152\"], [0.1, \"#c51b7d\"], [0.2, \"#de77ae\"], [0.3, \"#f1b6da\"], [0.4, \"#fde0ef\"], [0.5, \"#f7f7f7\"], [0.6, \"#e6f5d0\"], [0.7, \"#b8e186\"], [0.8, \"#7fbc41\"], [0.9, \"#4d9221\"], [1, \"#276419\"]], \"sequential\": [[0.0, \"#0d0887\"], [0.1111111111111111, \"#46039f\"], [0.2222222222222222, \"#7201a8\"], [0.3333333333333333, \"#9c179e\"], [0.4444444444444444, \"#bd3786\"], [0.5555555555555556, \"#d8576b\"], [0.6666666666666666, \"#ed7953\"], [0.7777777777777778, \"#fb9f3a\"], [0.8888888888888888, \"#fdca26\"], [1.0, \"#f0f921\"]], \"sequentialminus\": [[0.0, \"#0d0887\"], [0.1111111111111111, \"#46039f\"], [0.2222222222222222, \"#7201a8\"], [0.3333333333333333, \"#9c179e\"], [0.4444444444444444, \"#bd3786\"], [0.5555555555555556, \"#d8576b\"], [0.6666666666666666, \"#ed7953\"], [0.7777777777777778, \"#fb9f3a\"], [0.8888888888888888, \"#fdca26\"], [1.0, \"#f0f921\"]]}, \"colorway\": [\"#636efa\", \"#EF553B\", \"#00cc96\", \"#ab63fa\", \"#FFA15A\", \"#19d3f3\", \"#FF6692\", \"#B6E880\", \"#FF97FF\", \"#FECB52\"], \"font\": {\"color\": \"#2a3f5f\"}, \"geo\": {\"bgcolor\": \"white\", \"lakecolor\": \"white\", \"landcolor\": \"#E5ECF6\", \"showlakes\": true, \"showland\": true, \"subunitcolor\": \"white\"}, \"hoverlabel\": {\"align\": \"left\"}, \"hovermode\": \"closest\", \"mapbox\": {\"style\": \"light\"}, \"paper_bgcolor\": \"white\", \"plot_bgcolor\": \"#E5ECF6\", \"polar\": {\"angularaxis\": {\"gridcolor\": \"white\", \"linecolor\": \"white\", \"ticks\": \"\"}, \"bgcolor\": \"#E5ECF6\", \"radialaxis\": {\"gridcolor\": \"white\", \"linecolor\": \"white\", \"ticks\": \"\"}}, \"scene\": {\"xaxis\": {\"backgroundcolor\": \"#E5ECF6\", \"gridcolor\": \"white\", \"gridwidth\": 2, \"linecolor\": \"white\", \"showbackground\": true, \"ticks\": \"\", \"zerolinecolor\": \"white\"}, \"yaxis\": {\"backgroundcolor\": \"#E5ECF6\", \"gridcolor\": \"white\", \"gridwidth\": 2, \"linecolor\": \"white\", \"showbackground\": true, \"ticks\": \"\", \"zerolinecolor\": \"white\"}, \"zaxis\": {\"backgroundcolor\": \"#E5ECF6\", \"gridcolor\": \"white\", \"gridwidth\": 2, \"linecolor\": \"white\", \"showbackground\": true, \"ticks\": \"\", \"zerolinecolor\": \"white\"}}, \"shapedefaults\": {\"line\": {\"color\": \"#2a3f5f\"}}, \"ternary\": {\"aaxis\": {\"gridcolor\": \"white\", \"linecolor\": \"white\", \"ticks\": \"\"}, \"baxis\": {\"gridcolor\": \"white\", \"linecolor\": \"white\", \"ticks\": \"\"}, \"bgcolor\": \"#E5ECF6\", \"caxis\": {\"gridcolor\": \"white\", \"linecolor\": \"white\", \"ticks\": \"\"}}, \"title\": {\"x\": 0.05}, \"xaxis\": {\"automargin\": true, \"gridcolor\": \"white\", \"linecolor\": \"white\", \"ticks\": \"\", \"title\": {\"standoff\": 15}, \"zerolinecolor\": \"white\", \"zerolinewidth\": 2}, \"yaxis\": {\"automargin\": true, \"gridcolor\": \"white\", \"linecolor\": \"white\", \"ticks\": \"\", \"title\": {\"standoff\": 15}, \"zerolinecolor\": \"white\", \"zerolinewidth\": 2}}}},\n",
              "                        {\"responsive\": true}\n",
              "                    ).then(function(){\n",
              "                            \n",
              "var gd = document.getElementById('c0877871-2707-493e-b022-dc228466ec90');\n",
              "var x = new MutationObserver(function (mutations, observer) {{\n",
              "        var display = window.getComputedStyle(gd).display;\n",
              "        if (!display || display === 'none') {{\n",
              "            console.log([gd, 'removed!']);\n",
              "            Plotly.purge(gd);\n",
              "            observer.disconnect();\n",
              "        }}\n",
              "}});\n",
              "\n",
              "// Listen for the removal of the full notebook cells\n",
              "var notebookContainer = gd.closest('#notebook-container');\n",
              "if (notebookContainer) {{\n",
              "    x.observe(notebookContainer, {childList: true});\n",
              "}}\n",
              "\n",
              "// Listen for the clearing of the current output cell\n",
              "var outputEl = gd.closest('.output');\n",
              "if (outputEl) {{\n",
              "    x.observe(outputEl, {childList: true});\n",
              "}}\n",
              "\n",
              "                        })\n",
              "                };\n",
              "                \n",
              "            </script>\n",
              "        </div>\n",
              "</body>\n",
              "</html>"
            ]
          },
          "metadata": {}
        }
      ]
    },
    {
      "cell_type": "markdown",
      "metadata": {
        "id": "zDjnJ1aX3mdt"
      },
      "source": [
        "# **Differences between before and after using Feature Selection**"
      ]
    },
    {
      "cell_type": "code",
      "metadata": {
        "colab": {
          "base_uri": "https://localhost:8080/",
          "height": 0
        },
        "id": "MaTVuW-r3Os3",
        "outputId": "d053b4f3-5fbe-4d1d-d536-e9a7f423fdc7"
      },
      "source": [
        "#Before using Feature Selection\n",
        "model_logistic = LogisticRegression(multi_class='multinomial', max_iter=1000)\n",
        "model_logistic.fit(X_train, y_train)\n",
        "predict = model_logistic.predict(X_test)\n",
        "print(confusion_matrix(y_test, predict))\n",
        "print(classification_report(y_test, predict))"
      ],
      "execution_count": 49,
      "outputs": [
        {
          "output_type": "stream",
          "name": "stdout",
          "text": [
            "[[14  0  0]\n",
            " [ 0 16  2]\n",
            " [ 0  1 12]]\n",
            "              precision    recall  f1-score   support\n",
            "\n",
            "           0       1.00      1.00      1.00        14\n",
            "           1       0.94      0.89      0.91        18\n",
            "           2       0.86      0.92      0.89        13\n",
            "\n",
            "    accuracy                           0.93        45\n",
            "   macro avg       0.93      0.94      0.93        45\n",
            "weighted avg       0.94      0.93      0.93        45\n",
            "\n"
          ]
        }
      ]
    },
    {
      "cell_type": "code",
      "metadata": {
        "colab": {
          "base_uri": "https://localhost:8080/",
          "height": 0
        },
        "id": "AU8Ffz7q3bvD",
        "outputId": "3603d1dc-e264-4a66-d004-e4e7d1a97546"
      },
      "source": [
        "#After using Feature Selection\n",
        "model_logistic = LogisticRegression(solver='saga', multi_class='multinomial', max_iter=10000)\n",
        "model_logistic.fit(X_train_f, y_train)"
      ],
      "execution_count": 50,
      "outputs": [
        {
          "output_type": "execute_result",
          "data": {
            "text/plain": [
              "LogisticRegression(C=1.0, class_weight=None, dual=False, fit_intercept=True,\n",
              "                   intercept_scaling=1, l1_ratio=None, max_iter=10000,\n",
              "                   multi_class='multinomial', n_jobs=None, penalty='l2',\n",
              "                   random_state=None, solver='saga', tol=0.0001, verbose=0,\n",
              "                   warm_start=False)"
            ]
          },
          "metadata": {},
          "execution_count": 50
        }
      ]
    },
    {
      "cell_type": "code",
      "metadata": {
        "colab": {
          "base_uri": "https://localhost:8080/",
          "height": 0
        },
        "id": "tu_FqemF3eN0",
        "outputId": "e41a5804-524b-4ed1-f1eb-67dab73e2c50"
      },
      "source": [
        "X_test_f = sel_f.transform(X_test)\n",
        "print(X_test.shape)\n",
        "print(X_test_f.shape)"
      ],
      "execution_count": 51,
      "outputs": [
        {
          "output_type": "stream",
          "name": "stdout",
          "text": [
            "(45, 14)\n",
            "(45, 4)\n"
          ]
        }
      ]
    },
    {
      "cell_type": "code",
      "metadata": {
        "colab": {
          "base_uri": "https://localhost:8080/",
          "height": 0
        },
        "id": "BsM6bSCo3g0G",
        "outputId": "1a241b55-907b-4623-95e3-9ed45e6706cb"
      },
      "source": [
        "predict = model_logistic.predict(X_test_f)\n",
        "print(confusion_matrix(y_test, predict))\n",
        "print(classification_report(y_test, predict))"
      ],
      "execution_count": 52,
      "outputs": [
        {
          "output_type": "stream",
          "name": "stdout",
          "text": [
            "[[14  0  0]\n",
            " [ 0 17  1]\n",
            " [ 0  0 13]]\n",
            "              precision    recall  f1-score   support\n",
            "\n",
            "           0       1.00      1.00      1.00        14\n",
            "           1       1.00      0.94      0.97        18\n",
            "           2       0.93      1.00      0.96        13\n",
            "\n",
            "    accuracy                           0.98        45\n",
            "   macro avg       0.98      0.98      0.98        45\n",
            "weighted avg       0.98      0.98      0.98        45\n",
            "\n"
          ]
        }
      ]
    }
  ]
}